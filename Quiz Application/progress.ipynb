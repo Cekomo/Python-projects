{
 "cells": [
  {
   "cell_type": "markdown",
   "metadata": {},
   "source": [
    "# Quiz Application in Python with PostgreSQL\n",
    "---\n",
    "## SETUP\n",
    "\n",
    "In the first step, I will create only a quiz environment that fetch data from SQL and show it to user.\n",
    "This quiz setup will ask questions one by one. At the end, it will show user's score."
   ]
  }
 ],
 "metadata": {
  "language_info": {
   "name": "python"
  },
  "orig_nbformat": 4
 },
 "nbformat": 4,
 "nbformat_minor": 2
}
