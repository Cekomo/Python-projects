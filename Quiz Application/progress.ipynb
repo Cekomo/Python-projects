{
 "cells": [
  {
   "cell_type": "markdown",
   "metadata": {},
   "source": [
    "# Quiz Application in Python with PostgreSQL\n",
    "---\n",
    "## SETUP\n",
    "\n",
    "In the first step, I will create only a quiz environment that fetch data from SQL and show it to user.\n",
    "This quiz setup will ask questions one by one. At the end, it will show user's score, it will have simple quit mechanism.\n",
    "Then, I will seperate concerns by implementing database connection and quiz in different tables.\n",
    "Create other files. Start to build a system that keeps user information and enables users to sign in the quiz only after registration. "
   ]
  },
  {
   "cell_type": "markdown",
   "metadata": {},
   "source": [
    "Handle all input errors"
   ]
  }
 ],
 "metadata": {
  "kernelspec": {
   "display_name": "Python 3",
   "language": "python",
   "name": "python3"
  },
  "language_info": {
   "name": "python",
   "version": "3.11.5"
  },
  "orig_nbformat": 4
 },
 "nbformat": 4,
 "nbformat_minor": 2
}
